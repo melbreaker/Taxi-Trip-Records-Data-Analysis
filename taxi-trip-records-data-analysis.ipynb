{
  "nbformat": 4,
  "nbformat_minor": 0,
  "metadata": {
    "colab": {
      "provenance": [],
      "authorship_tag": "ABX9TyP9Gwc2nNLxjjZeLxVElAMX",
      "include_colab_link": true
    },
    "kernelspec": {
      "name": "python3",
      "display_name": "Python 3"
    },
    "language_info": {
      "name": "python"
    }
  },
  "cells": [
    {
      "cell_type": "markdown",
      "metadata": {
        "id": "view-in-github",
        "colab_type": "text"
      },
      "source": [
        "<a href=\"https://colab.research.google.com/github/melbreaker/Taxi-Trip-Records-Data-Analysis/blob/main/taxi-trip-records-data-analysis.ipynb\" target=\"_parent\"><img src=\"https://colab.research.google.com/assets/colab-badge.svg\" alt=\"Open In Colab\"/></a>"
      ]
    },
    {
      "cell_type": "markdown",
      "source": [
        "# Taxi Trip Records Analysis"
      ],
      "metadata": {
        "id": "uPsNYiII3T6Y"
      }
    },
    {
      "cell_type": "markdown",
      "source": [
        "## 1. Data Loading"
      ],
      "metadata": {
        "id": "mzS5EOZS33To"
      }
    },
    {
      "cell_type": "code",
      "execution_count": null,
      "metadata": {
        "id": "49zxyBDsyx6r"
      },
      "outputs": [],
      "source": []
    },
    {
      "cell_type": "markdown",
      "source": [
        "## 2. Data Exploration and Pre-processing"
      ],
      "metadata": {
        "id": "SiLNHiqR36oc"
      }
    },
    {
      "cell_type": "code",
      "source": [],
      "metadata": {
        "id": "KOmOnKVG4AFh"
      },
      "execution_count": null,
      "outputs": []
    },
    {
      "cell_type": "markdown",
      "source": [
        "## 3. Featurization"
      ],
      "metadata": {
        "id": "_n9_yCxv4Amb"
      }
    },
    {
      "cell_type": "code",
      "source": [],
      "metadata": {
        "id": "Vh4EFfcK4FH-"
      },
      "execution_count": null,
      "outputs": []
    },
    {
      "cell_type": "markdown",
      "source": [
        "## 4. Data Analysis"
      ],
      "metadata": {
        "id": "SqPQJU7Q4Fp0"
      }
    },
    {
      "cell_type": "code",
      "source": [],
      "metadata": {
        "id": "khNST3-k4L7K"
      },
      "execution_count": null,
      "outputs": []
    },
    {
      "cell_type": "markdown",
      "source": [
        "## 5. Conclusion"
      ],
      "metadata": {
        "id": "VxwgE14O4NJ4"
      }
    },
    {
      "cell_type": "code",
      "source": [],
      "metadata": {
        "id": "rApsO2_24PkI"
      },
      "execution_count": null,
      "outputs": []
    }
  ]
}